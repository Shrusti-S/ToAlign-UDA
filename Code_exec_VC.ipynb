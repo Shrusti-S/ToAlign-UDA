{
  "cells": [
    {
      "cell_type": "code",
      "execution_count": null,
      "metadata": {
        "id": "UGeCioKqtE20"
      },
      "outputs": [],
      "source": [
        "# !pip install torch\n",
        "# !pip install torchvision\n",
        "# !pip install future\n",
        "# !pip install yacs\n",
        "# !pip install pyyaml\n",
        "# !pip install terminaltables\n",
        "# !pip install tqdm\n",
        "# !pip install tensorboardX\n"
      ]
    },
    {
      "cell_type": "code",
      "execution_count": null,
      "metadata": {
        "id": "Itfhv_ESxBUt"
      },
      "outputs": [],
      "source": [
        "import torch\n",
        "torch.cuda.empty_cache()"
      ]
    },
    {
      "cell_type": "code",
      "execution_count": null,
      "metadata": {
        "id": "gOFPUQS8dVv7"
      },
      "outputs": [],
      "source": [
        "!pip install configs"
      ]
    },
    {
      "cell_type": "code",
      "execution_count": null,
      "metadata": {
        "id": "ccvMH9lBEhao"
      },
      "outputs": [],
      "source": [
        "!pip install tensorflow\n",
        "!pip install numexpr\n"
      ]
    },
    {
      "cell_type": "code",
      "execution_count": null,
      "metadata": {
        "id": "mDZnTENh32YR"
      },
      "outputs": [],
      "source": [
        "from google.colab import drive\n",
        "drive.mount('/content/drive')\n"
      ]
    },
    {
      "cell_type": "code",
      "execution_count": null,
      "metadata": {
        "id": "sBloJEzMdg-s"
      },
      "outputs": [],
      "source": [
        "!ls"
      ]
    },
    {
      "cell_type": "markdown",
      "metadata": {
        "id": "3xIGRCkiLV2u"
      },
      "source": [
        "The code from Github is stored in the google drive "
      ]
    },
    {
      "cell_type": "code",
      "execution_count": null,
      "metadata": {
        "id": "IWhamweDdW6t"
      },
      "outputs": [],
      "source": [
        "\n",
        "%cd /content/drive/MyDrive/VisCom/UDA-main"
      ]
    },
    {
      "cell_type": "code",
      "execution_count": null,
      "metadata": {
        "id": "dxlEzyVwEdPO"
      },
      "outputs": [],
      "source": [
        "with open('/content/drive/MyDrive/VisCom/UDA-main/requirements.txt', 'r') as file:\n",
        "  content = file.readlines()"
      ]
    },
    {
      "cell_type": "code",
      "execution_count": null,
      "metadata": {
        "id": "wPT1ogqIEfwy"
      },
      "outputs": [],
      "source": [
        "for line in content:\n",
        "  !pip install {line}"
      ]
    },
    {
      "attachments": {},
      "cell_type": "markdown",
      "metadata": {
        "id": "XIl3QjMrLJF2"
      },
      "source": [
        "Creating text files for loading images from the dataset\n",
        "\n",
        "Note : This part of the code is commented, as the text files are already created and present in the Code folder"
      ]
    },
    {
      "cell_type": "code",
      "execution_count": null,
      "metadata": {
        "id": "wmr2EecopWA0"
      },
      "outputs": [],
      "source": [
        "# import os\n",
        "\n",
        "# # define the root directory of the dataset\n",
        "# data_root = '/content/drive/MyDrive/VisCom/UDA-main/dataset_map/office_home_dataset'\n",
        "\n",
        "# # define the domain to create the file for\n",
        "# domain = 'art'\n",
        "\n",
        "# # create a list of subfolders in the specified domain\n",
        "# subfolders = sorted(os.listdir(os.path.join(data_root, domain)))\n",
        "\n",
        "# # define the output file path\n",
        "# output_file = os.path.join(data_root, f'{domain}.txt')\n",
        "\n",
        "# # create the output file\n",
        "# with open(output_file, 'w') as f:\n",
        "#     for i, subfolder in enumerate(subfolders):\n",
        "#         # create a list of image file names in the subfolder\n",
        "#         images = sorted(os.listdir(os.path.join(data_root, domain, subfolder)))\n",
        "        \n",
        "#         # write the image paths and labels to the output file\n",
        "#         for image in images:\n",
        "#             image_path = os.path.join(domain, subfolder, image)\n",
        "#             label = str(i)\n",
        "#             f.write(f'{image_path} {label}\\n')\n"
      ]
    },
    {
      "cell_type": "code",
      "execution_count": null,
      "metadata": {
        "id": "QqPHM1A_p0CO"
      },
      "outputs": [],
      "source": [
        "# import os\n",
        "\n",
        "# # define the root directory of the dataset\n",
        "# data_root = '/content/drive/MyDrive/VisCom/UDA-main/dataset_map/office_home_dataset'\n",
        "\n",
        "# # define the domain to create the file for\n",
        "# domain = 'clipart'\n",
        "\n",
        "# # create a list of subfolders in the specified domain\n",
        "# subfolders = sorted(os.listdir(os.path.join(data_root, domain)))\n",
        "\n",
        "# # define the output file path\n",
        "# output_file = os.path.join(data_root, f'{domain}.txt')\n",
        "\n",
        "# # create the output file\n",
        "# with open(output_file, 'w') as f:\n",
        "#     for i, subfolder in enumerate(subfolders):\n",
        "#         # create a list of image file names in the subfolder\n",
        "#         images = sorted(os.listdir(os.path.join(data_root, domain, subfolder)))\n",
        "        \n",
        "#         # write the image paths and labels to the output file\n",
        "#         for image in images:\n",
        "#             image_path = os.path.join(domain, subfolder, image)\n",
        "#             label = str(i)\n",
        "#             f.write(f'{image_path} {label}\\n')\n"
      ]
    },
    {
      "cell_type": "code",
      "execution_count": null,
      "metadata": {
        "id": "e_hHL3gLqDtt"
      },
      "outputs": [],
      "source": [
        "# import os\n",
        "\n",
        "# # define the root directory of the dataset\n",
        "# data_root = '/content/drive/MyDrive/VisCom/UDA-main/dataset_map/office_home_dataset'\n",
        "\n",
        "# # define the domain to create the file for\n",
        "# domain = 'product'\n",
        "\n",
        "# # create a list of subfolders in the specified domain\n",
        "# subfolders = sorted(os.listdir(os.path.join(data_root, domain)))\n",
        "\n",
        "# # define the output file path\n",
        "# output_file = os.path.join(data_root, f'{domain}.txt')\n",
        "\n",
        "# # create the output file\n",
        "# with open(output_file, 'w') as f:\n",
        "#     for i, subfolder in enumerate(subfolders):\n",
        "#         # create a list of image file names in the subfolder\n",
        "#         images = sorted(os.listdir(os.path.join(data_root, domain, subfolder)))\n",
        "        \n",
        "#         # write the image paths and labels to the output file\n",
        "#         for image in images:\n",
        "#             image_path = os.path.join(domain, subfolder, image)\n",
        "#             label = str(i)\n",
        "#             f.write(f'{image_path} {label}\\n')\n"
      ]
    },
    {
      "cell_type": "code",
      "execution_count": null,
      "metadata": {
        "id": "u-PjAFYBqM5M"
      },
      "outputs": [],
      "source": [
        "# import os\n",
        "\n",
        "# # define the root directory of the dataset\n",
        "# data_root = '/content/drive/MyDrive/VisCom/UDA-main/dataset_map/office_home_dataset'\n",
        "\n",
        "# # define the domain to create the file for\n",
        "# domain = 'real_world'\n",
        "\n",
        "# # create a list of subfolders in the specified domain\n",
        "# subfolders = sorted(os.listdir(os.path.join(data_root, domain)))\n",
        "\n",
        "# # define the output file path\n",
        "# output_file = os.path.join(data_root, f'{domain}.txt')\n",
        "\n",
        "# # create the output file\n",
        "# with open(output_file, 'w') as f:\n",
        "#     for i, subfolder in enumerate(subfolders):\n",
        "#         # create a list of image file names in the subfolder\n",
        "#         images = sorted(os.listdir(os.path.join(data_root, domain, subfolder)))\n",
        "        \n",
        "#         # write the image paths and labels to the output file\n",
        "#         for image in images:\n",
        "#             image_path = os.path.join(domain, subfolder, image)\n",
        "#             label = str(i)\n",
        "#             f.write(f'{image_path} {label}\\n')\n"
      ]
    },
    {
      "cell_type": "markdown",
      "metadata": {
        "id": "nROAYniRLmEb"
      },
      "source": [
        "Start training\n",
        "\n",
        "Output files are being stored in the drive's directory 'Output'"
      ]
    },
    {
      "cell_type": "code",
      "execution_count": null,
      "metadata": {
        "id": "us87nRIXfGP0"
      },
      "outputs": [],
      "source": [
        "# source and target domains can be defined by \"--source\" and \"--target\"\n",
        "!python main.py configs/uda_office_home_toalign.yaml --data_root /content/drive/MyDrive/VisCom/UDA-main/dataset_map/office_home_dataset --source a --target c --output_root /content/drive/MyDrive/VisCom/UDA-main/output"
      ]
    },
    {
      "cell_type": "code",
      "execution_count": null,
      "metadata": {
        "id": "lB1Daa2_2R5-"
      },
      "outputs": [],
      "source": []
    }
  ],
  "metadata": {
    "accelerator": "GPU",
    "colab": {
      "private_outputs": true,
      "provenance": []
    },
    "gpuClass": "standard",
    "kernelspec": {
      "display_name": "Python 3",
      "name": "python3"
    },
    "language_info": {
      "name": "python"
    }
  },
  "nbformat": 4,
  "nbformat_minor": 0
}
